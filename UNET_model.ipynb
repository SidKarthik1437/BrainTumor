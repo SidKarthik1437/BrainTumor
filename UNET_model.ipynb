{
 "cells": [
  {
   "cell_type": "code",
   "execution_count": 3,
   "metadata": {},
   "outputs": [],
   "source": [
    "import warnings\n",
    "import numpy as np\n",
    "import nibabel as nib"
   ]
  },
  {
   "cell_type": "code",
   "execution_count": 1,
   "metadata": {},
   "outputs": [],
   "source": [
    "from tensorflow import keras"
   ]
  },
  {
   "cell_type": "code",
   "execution_count": 2,
   "metadata": {},
   "outputs": [],
   "source": [
    "from keras.layers import Conv3D, MaxPooling3D, Dense, BatchNormalization, Activation\n",
    "from keras.models import Sequential\n"
   ]
  },
  {
   "cell_type": "code",
   "execution_count": 3,
   "metadata": {},
   "outputs": [],
   "source": [
    "class DoubleConv(Sequential):\n",
    "    def __init__(self, in_channels, out_channels, num_groups=8):\n",
    "        super(DoubleConv, self).__init__()\n",
    "        self.double_conv = Sequential([\n",
    "            # Convolution set one \n",
    "            Conv3D(out_channels, kernel_size=(3, 3, 3), strides=(1, 1, 1), padding='same', input_shape=in_channels),\n",
    "            BatchNormalization(),\n",
    "            Activation('relu'),\n",
    "\n",
    "            # Convolution set two\n",
    "            Conv3D(out_channels, kernel_size=(3, 3, 3), strides=(1, 1, 1), padding='same'),\n",
    "            BatchNormalization(),\n",
    "            Activation('relu')\n",
    "        ])\n",
    "\n",
    "    def call(self, x):\n",
    "        return self.double_conv(x)"
   ]
  },
  {
   "cell_type": "code",
   "execution_count": 4,
   "metadata": {},
   "outputs": [],
   "source": [
    "from keras.models import Sequential, Model\n",
    "from keras.layers import MaxPooling3D\n",
    "\n",
    "class Down(Model):\n",
    "    def __init__(self, in_channels, out_channels):\n",
    "        super(Down, self).__init__()\n",
    "        self.encoder = Sequential([\n",
    "            MaxPooling3D(pool_size=(2, 2, 2), strides=(2, 2, 2)),\n",
    "            DoubleConv(in_channels, out_channels)\n",
    "        ])\n",
    "\n",
    "    def call(self, x):\n",
    "        # max pooling 3d + doubleConv\n",
    "        return self.encoder(x)"
   ]
  },
  {
   "cell_type": "code",
   "execution_count": 5,
   "metadata": {},
   "outputs": [],
   "source": [
    "from keras.models import Sequential\n",
    "from keras.layers import UpSampling3D, Conv3DTranspose, Concatenate, ZeroPadding3D\n",
    "\n",
    "class Up(Model):\n",
    "    def __init__(self, in_channels, out_channels, trilinear=True):\n",
    "        super(Up, self).__init__()\n",
    "\n",
    "        if trilinear:\n",
    "            self.up = UpSampling3D(size=(2, 2, 2), interpolation='trilinear')\n",
    "        else:\n",
    "            self.up = Conv3DTranspose(filters=in_channels // 2, kernel_size=(2, 2, 2), strides=(2, 2, 2))\n",
    "            \n",
    "        self.conv = DoubleConv(in_channels, out_channels)\n",
    "\n",
    "    def call(self, x1, x2):\n",
    "        x1 = self.up(x1)\n",
    "\n",
    "        diffZ = x2.shape[1] - x1.shape[1]\n",
    "        diffY = x2.shape[2] - x1.shape[2]\n",
    "        diffX = x2.shape[3] - x1.shape[3]\n",
    "        x1 = ZeroPadding3D(((diffZ // 2, diffZ - diffZ // 2), (diffY // 2, diffY - diffY // 2), (diffX // 2, diffX - diffX // 2)))(x1)\n",
    "\n",
    "        x = Concatenate(axis=1)([x2, x1])\n",
    "        return self.conv(x)\n"
   ]
  },
  {
   "cell_type": "code",
   "execution_count": 6,
   "metadata": {},
   "outputs": [],
   "source": [
    "from keras.layers import Conv3D\n",
    "\n",
    "class Out(Model):\n",
    "    def __init__(self, in_channels, out_channels):\n",
    "        super(Out, self).__init__()\n",
    "        self.conv = Conv3D(filters=out_channels, kernel_size=(1, 1, 1))\n",
    "\n",
    "    def call(self, x):\n",
    "        return self.conv(x)\n"
   ]
  },
  {
   "cell_type": "code",
   "execution_count": null,
   "metadata": {},
   "outputs": [],
   "source": [
    "from keras.models import Model\n",
    "from keras.layers import Input\n",
    "import tensorflow as tf\n",
    "\n",
    "class UNet3d(tf.keras.Model):\n",
    "    def __init__(self, in_channels, n_classes, n_channels):\n",
    "        super(UNet3d, self).__init__()\n",
    "        self.in_channels = in_channels\n",
    "        self.n_classes = n_classes\n",
    "        self.n_channels = n_channels\n",
    "\n",
    "        # extracting the features by incrementally multiplying the number of channels \n",
    "        self.conv = DoubleConv(in_channels, n_channels)\n",
    "        self.enc1 = Down(n_channels, 2 * n_channels)\n",
    "        self.enc2 = Down(2 * n_channels, 4 * n_channels)\n",
    "        self.enc3 = Down(4 * n_channels, 8 * n_channels)\n",
    "        self.enc4 = Down(8 * n_channels, 8 * n_channels)\n",
    "\n",
    "        self.dec1 = Up(16 * n_channels, 4 * n_channels)\n",
    "        self.dec2 = Up(8 * n_channels, 2 * n_channels)\n",
    "        self.dec3 = Up(4 * n_channels, n_channels)\n",
    "        self.dec4 = Up(2 * n_channels, n_channels)\n",
    "        self.out = Out(n_channels, n_classes)\n",
    "\n",
    "    def call(self, x):\n",
    "        x1 = self.conv(x)\n",
    "        x2 = self.enc1(x1)\n",
    "        x3 = self.enc2(x2)\n",
    "        x4 = self.enc3(x3)\n",
    "        x5 = self.enc4(x4)\n",
    "\n",
    "        mask = self.dec1(x5, x4)\n",
    "        mask = self.dec2(mask, x3)\n",
    "        mask = self.dec3(mask, x2)\n",
    "        mask = self.dec4(mask, x1)\n",
    "        mask = self.out(mask)\n",
    "        \n",
    "        return mask\n",
    "\n",
    "# Create an instance of the UNet3d model\n",
    "in_channels = ...  # Specify the number of input channels\n",
    "n_classes = ...  # Specify the number of output classes\n",
    "n_channels = ...  # Specify the initial number of channels\n",
    "input_shape = (0, 0, 0, in_channels)  # Specify the input shape\n",
    "inputs = Input(shape=input_shape)\n",
    "unet_model = UNet3d(in_channels, n_classes, n_channels)\n",
    "outputs = unet_model(inputs)\n",
    "model = Model(inputs=inputs, outputs=outputs)\n"
   ]
  },
  {
   "cell_type": "code",
   "execution_count": null,
   "metadata": {},
   "outputs": [],
   "source": []
  }
 ],
 "metadata": {
  "kernelspec": {
   "display_name": "base",
   "language": "python",
   "name": "python3"
  },
  "language_info": {
   "codemirror_mode": {
    "name": "ipython",
    "version": 3
   },
   "file_extension": ".py",
   "mimetype": "text/x-python",
   "name": "python",
   "nbconvert_exporter": "python",
   "pygments_lexer": "ipython3",
   "version": "3.9.13 (main, Aug 25 2022, 23:26:10) \n[GCC 11.2.0]"
  },
  "orig_nbformat": 4,
  "vscode": {
   "interpreter": {
    "hash": "46bd3d8bb5614cbb3032b5d7386814c4a7e085539838e4897a1bc1b10a739fdc"
   }
  }
 },
 "nbformat": 4,
 "nbformat_minor": 2
}
